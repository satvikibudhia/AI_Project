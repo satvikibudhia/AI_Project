{
 "cells": [
  {
   "cell_type": "code",
   "execution_count": 15,
   "id": "55f38878",
   "metadata": {},
   "outputs": [
    {
     "name": "stdout",
     "output_type": "stream",
     "text": [
      "Requirement already satisfied: opencv-python in c:\\users\\sandi\\appdata\\local\\programs\\python\\python311\\lib\\site-packages (4.10.0.84)Note: you may need to restart the kernel to use updated packages.\n",
      "\n",
      "Requirement already satisfied: numpy in c:\\users\\sandi\\appdata\\local\\programs\\python\\python311\\lib\\site-packages (1.24.3)\n",
      "Requirement already satisfied: scikit-image in c:\\users\\sandi\\appdata\\local\\programs\\python\\python311\\lib\\site-packages (0.25.2)\n",
      "Requirement already satisfied: scipy>=1.11.4 in c:\\users\\sandi\\appdata\\local\\programs\\python\\python311\\lib\\site-packages (from scikit-image) (1.15.2)\n",
      "Requirement already satisfied: networkx>=3.0 in c:\\users\\sandi\\appdata\\local\\programs\\python\\python311\\lib\\site-packages (from scikit-image) (3.4.2)\n",
      "Requirement already satisfied: pillow>=10.1 in c:\\users\\sandi\\appdata\\local\\programs\\python\\python311\\lib\\site-packages (from scikit-image) (11.1.0)\n",
      "Requirement already satisfied: imageio!=2.35.0,>=2.33 in c:\\users\\sandi\\appdata\\local\\programs\\python\\python311\\lib\\site-packages (from scikit-image) (2.37.0)\n",
      "Requirement already satisfied: tifffile>=2022.8.12 in c:\\users\\sandi\\appdata\\local\\programs\\python\\python311\\lib\\site-packages (from scikit-image) (2025.2.18)\n",
      "Requirement already satisfied: packaging>=21 in c:\\users\\sandi\\appdata\\local\\programs\\python\\python311\\lib\\site-packages (from scikit-image) (23.1)\n",
      "Requirement already satisfied: lazy-loader>=0.4 in c:\\users\\sandi\\appdata\\local\\programs\\python\\python311\\lib\\site-packages (from scikit-image) (0.4)\n"
     ]
    }
   ],
   "source": [
    "pip install opencv-python numpy scikit-image"
   ]
  },
  {
   "cell_type": "code",
   "execution_count": 17,
   "id": "e23cd20e",
   "metadata": {},
   "outputs": [
    {
     "name": "stderr",
     "output_type": "stream",
     "text": [
      "Augmenting C:\\Users\\sandi\\Downloads\\idk\\fruit_ripe\\apple_raw: 100%|██████████| 500/500 [00:04<00:00, 122.85it/s]\n",
      "Augmenting C:\\Users\\sandi\\Downloads\\idk\\fruit_ripe\\apple_ripe: 100%|██████████| 500/500 [00:04<00:00, 108.99it/s]\n",
      "Augmenting C:\\Users\\sandi\\Downloads\\idk\\fruit_ripe\\apple_rotten: 100%|██████████| 500/500 [00:02<00:00, 231.37it/s]\n",
      "Augmenting C:\\Users\\sandi\\Downloads\\idk\\fruit_ripe\\banana_raw: 100%|██████████| 500/500 [00:01<00:00, 259.51it/s]\n",
      "Augmenting C:\\Users\\sandi\\Downloads\\idk\\fruit_ripe\\banana_ripe: 100%|██████████| 500/500 [00:02<00:00, 227.73it/s]\n",
      "Augmenting C:\\Users\\sandi\\Downloads\\idk\\fruit_ripe\\banana_rotten: 100%|██████████| 500/500 [00:01<00:00, 281.77it/s]\n",
      "Augmenting C:\\Users\\sandi\\Downloads\\idk\\fruit_ripe\\mango_raw: 100%|██████████| 500/500 [00:01<00:00, 258.94it/s]\n",
      "Augmenting C:\\Users\\sandi\\Downloads\\idk\\fruit_ripe\\mango_ripe: 100%|██████████| 500/500 [00:01<00:00, 263.52it/s]\n",
      "Augmenting C:\\Users\\sandi\\Downloads\\idk\\fruit_ripe\\mango_rotten: 100%|██████████| 500/500 [00:02<00:00, 249.20it/s]\n",
      "Augmenting C:\\Users\\sandi\\Downloads\\idk\\fruit_ripe\\orange_raw: 100%|██████████| 500/500 [00:02<00:00, 226.74it/s]\n",
      "Augmenting C:\\Users\\sandi\\Downloads\\idk\\fruit_ripe\\orange_ripe: 100%|██████████| 500/500 [00:01<00:00, 273.42it/s]\n",
      "Augmenting C:\\Users\\sandi\\Downloads\\idk\\fruit_ripe\\orange_rotten: 100%|██████████| 500/500 [00:02<00:00, 237.86it/s]\n",
      "Augmenting C:\\Users\\sandi\\Downloads\\idk\\fruit_ripe\\papaya_raw: 100%|██████████| 500/500 [00:01<00:00, 322.53it/s]\n",
      "Augmenting C:\\Users\\sandi\\Downloads\\idk\\fruit_ripe\\papaya_ripe: 100%|██████████| 500/500 [00:01<00:00, 265.79it/s]\n",
      "Augmenting C:\\Users\\sandi\\Downloads\\idk\\fruit_ripe\\papaya_rotten: 100%|██████████| 500/500 [00:02<00:00, 167.57it/s]\n"
     ]
    }
   ],
   "source": [
    "import os\n",
    "import cv2\n",
    "import numpy as np\n",
    "import random\n",
    "from pathlib import Path\n",
    "from tqdm import tqdm\n",
    "\n",
    "# Paths\n",
    "input_path = r\"C:\\Users\\sandi\\Downloads\\idk\\fruit_ripe\"\n",
    "output_path = r\"C:\\Users\\sandi\\Downloads\\augmented\"\n",
    "os.makedirs(output_path, exist_ok=True)\n",
    "\n",
    "# Safe Augmentations\n",
    "def rotate(image):\n",
    "    angle = random.choice([-10, -5, 5, 10])\n",
    "    h, w = image.shape[:2]\n",
    "    M = cv2.getRotationMatrix2D((w/2, h/2), angle, 1)\n",
    "    return cv2.warpAffine(image, M, (w, h))\n",
    "\n",
    "def flip(image):\n",
    "    return cv2.flip(image, random.choice([0, 1]))  # Horizontal or vertical\n",
    "\n",
    "def translate(image):\n",
    "    rows, cols = image.shape[:2]\n",
    "    tx, ty = random.randint(-20, 20), random.randint(-20, 20)\n",
    "    M = np.float32([[1, 0, tx], [0, 1, ty]])\n",
    "    return cv2.warpAffine(image, M, (cols, rows))\n",
    "\n",
    "def adjust_brightness(image):\n",
    "    beta = random.randint(-15, 15)\n",
    "    return cv2.convertScaleAbs(image, beta=beta)\n",
    "\n",
    "def jitter_color(image):\n",
    "    hsv = cv2.cvtColor(image, cv2.COLOR_BGR2HSV)\n",
    "    h, s, v = cv2.split(hsv)\n",
    "    s = cv2.add(s, random.randint(-10, 10))\n",
    "    v = cv2.add(v, random.randint(-10, 10))\n",
    "    final_hsv = cv2.merge((h, s, v))\n",
    "    return cv2.cvtColor(final_hsv, cv2.COLOR_HSV2BGR)\n",
    "\n",
    "\n",
    "# Final Augmentation List\n",
    "augmentations = [rotate, flip, translate, adjust_brightness, jitter_color]\n",
    "\n",
    "# Apply to Folder\n",
    "def augment_folder(input_folder, output_folder, max_images=500):\n",
    "    image_files = list(Path(input_folder).glob(\"*\"))\n",
    "    original_images = [cv2.imread(str(img)) for img in image_files if img.suffix.lower() in ['.jpg', '.jpeg', '.png']]\n",
    "    total_original = len(original_images)\n",
    "    if total_original == 0:\n",
    "        return\n",
    "\n",
    "    os.makedirs(output_folder, exist_ok=True)\n",
    "\n",
    "    for i in tqdm(range(max_images), desc=f\"Augmenting {input_folder}\"):\n",
    "        img = random.choice(original_images)\n",
    "        aug_img = img.copy()\n",
    "        applied_augs = random.sample(augmentations, random.randint(1, 3))\n",
    "        for aug in applied_augs:\n",
    "            aug_img = aug(aug_img)\n",
    "        save_path = os.path.join(output_folder, f\"img_{i:04d}.jpg\")\n",
    "        cv2.imwrite(save_path, aug_img)\n",
    "\n",
    "# Process Class Folders\n",
    "for folder in os.listdir(input_path):\n",
    "    full_path = os.path.join(input_path, folder)\n",
    "    if os.path.isdir(full_path):\n",
    "        output_subfolder = os.path.join(output_path, folder)\n",
    "        augment_folder(full_path, output_subfolder)\n"
   ]
  }
 ],
 "metadata": {
  "kernelspec": {
   "display_name": "Python 3",
   "language": "python",
   "name": "python3"
  },
  "language_info": {
   "codemirror_mode": {
    "name": "ipython",
    "version": 3
   },
   "file_extension": ".py",
   "mimetype": "text/x-python",
   "name": "python",
   "nbconvert_exporter": "python",
   "pygments_lexer": "ipython3",
   "version": "3.11.4"
  }
 },
 "nbformat": 4,
 "nbformat_minor": 5
}
